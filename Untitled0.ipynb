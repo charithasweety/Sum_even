{
  "nbformat": 4,
  "nbformat_minor": 0,
  "metadata": {
    "colab": {
      "provenance": [],
      "authorship_tag": "ABX9TyOWKeQKZlBOV4t22RSPYrnA",
      "include_colab_link": true
    },
    "kernelspec": {
      "name": "python3",
      "display_name": "Python 3"
    },
    "language_info": {
      "name": "python"
    }
  },
  "cells": [
    {
      "cell_type": "markdown",
      "metadata": {
        "id": "view-in-github",
        "colab_type": "text"
      },
      "source": [
        "<a href=\"https://colab.research.google.com/github/charithasweety/Sum_even/blob/main/Untitled0.ipynb\" target=\"_parent\"><img src=\"https://colab.research.google.com/assets/colab-badge.svg\" alt=\"Open In Colab\"/></a>"
      ]
    },
    {
      "cell_type": "code",
      "execution_count": 4,
      "metadata": {
        "id": "Xjryz8Swj4VR"
      },
      "outputs": [],
      "source": []
    },
    {
      "cell_type": "markdown",
      "source": [
        "# **Write a Python program to calculate the sum of all even numbers between 1 and a given positive integer**.**2211CS020162**\n"
      ],
      "metadata": {
        "id": "PNWVv7lPrx_h"
      }
    },
    {
      "cell_type": "code",
      "source": [
        "def sum_of_evens(n):\n",
        "    return sum(i for i in range(2, n + 1, 2))\n",
        "\n",
        "# Example usage\n",
        "n = int(input(\"Enter a positive integer: \"))\n",
        "print(\"Sum of even numbers:\", sum_of_evens(n))"
      ],
      "metadata": {
        "colab": {
          "base_uri": "https://localhost:8080/"
        },
        "id": "U1JlC7BQsBl-",
        "outputId": "0cd3e310-fbb4-4c22-bdb3-7f5157cb48bf"
      },
      "execution_count": 2,
      "outputs": [
        {
          "output_type": "stream",
          "name": "stdout",
          "text": [
            "Enter a positive integer: 2\n",
            "Sum of even numbers: 2\n"
          ]
        }
      ]
    }
  ]
}